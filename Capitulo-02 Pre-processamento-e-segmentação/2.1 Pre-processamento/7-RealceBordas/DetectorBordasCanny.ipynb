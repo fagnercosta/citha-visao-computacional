{
 "cells": [
  {
   "cell_type": "code",
   "execution_count": null,
   "id": "6fdd17ee-45dc-4c25-b2c9-b248929e2938",
   "metadata": {},
   "outputs": [],
   "source": [
    "import cv2\n",
    "\n",
    "#lendo a imagem\n",
    "img = cv2.imread('predio.JPG')\n",
    "\n",
    "#Aplicando o detectore de bordas de Canny\n",
    "canny = cv2.Canny(img, 20,20)\n",
    "\n",
    "cv2.imshow('Original', img)\n",
    "cv2.imshow('Detector de Bordas', canny)\n",
    "\n",
    "\n",
    "cv2.waitKey(0)\n",
    "cv2.destroyAllWindows()\n",
    "plt.show()"
   ]
  },
  {
   "cell_type": "code",
   "execution_count": null,
   "id": "02ae917c-427e-44ec-b263-2621248b92a3",
   "metadata": {},
   "outputs": [],
   "source": []
  }
 ],
 "metadata": {
  "kernelspec": {
   "display_name": "Python 3 (ipykernel)",
   "language": "python",
   "name": "python3"
  },
  "language_info": {
   "codemirror_mode": {
    "name": "ipython",
    "version": 3
   },
   "file_extension": ".py",
   "mimetype": "text/x-python",
   "name": "python",
   "nbconvert_exporter": "python",
   "pygments_lexer": "ipython3",
   "version": "3.13.2"
  }
 },
 "nbformat": 4,
 "nbformat_minor": 5
}
