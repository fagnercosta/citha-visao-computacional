{
 "cells": [
  {
   "cell_type": "code",
   "execution_count": 1,
   "id": "3addf2b0-2cc3-4884-9ab2-f9d8ea77964b",
   "metadata": {},
   "outputs": [
    {
     "name": "stdout",
     "output_type": "stream",
     "text": [
      "Pixel na posição (0, 0) antes: 88\n",
      "Pixel na posição (0, 0) depois: 100\n"
     ]
    }
   ],
   "source": [
    "import cv2\n",
    "\n",
    "imagem = cv2.imread(\"frutas2.jpg\")\n",
    "imagemCinza = cv2.cvtColor(imagem, cv2.COLOR_BGR2GRAY)\n",
    "\n",
    "pixelAlvo = imagemCinza[0, 0]\n",
    "print(f\"Pixel na posição (0, 0) antes: {pixelAlvo}\")\n",
    "\n",
    "# Alterando o pixel na posição (0, 0) para o valor 100\n",
    "imagemCinza[0, 0] = 100\n",
    "pixelAlvo = imagemCinza[0, 0]\n",
    "\n",
    "print(f\"Pixel na posição (0, 0) depois: {pixelAlvo}\")"
   ]
  },
  {
   "cell_type": "code",
   "execution_count": null,
   "id": "87245ec4-89ea-4534-9ad1-1fa324b9a918",
   "metadata": {},
   "outputs": [],
   "source": []
  }
 ],
 "metadata": {
  "kernelspec": {
   "display_name": "Python 3 (ipykernel)",
   "language": "python",
   "name": "python3"
  },
  "language_info": {
   "codemirror_mode": {
    "name": "ipython",
    "version": 3
   },
   "file_extension": ".py",
   "mimetype": "text/x-python",
   "name": "python",
   "nbconvert_exporter": "python",
   "pygments_lexer": "ipython3",
   "version": "3.13.2"
  }
 },
 "nbformat": 4,
 "nbformat_minor": 5
}
