{
 "cells": [
  {
   "cell_type": "code",
   "execution_count": 1,
   "id": "44f665da-9953-4a4c-9103-a202d5633b62",
   "metadata": {},
   "outputs": [
    {
     "name": "stdout",
     "output_type": "stream",
     "text": [
      "Total de pixels : 1231938\n"
     ]
    }
   ],
   "source": [
    "import\tcv2\n",
    "\t\t\n",
    "imagem=cv2.imread(\"frutas2.jpg\")\n",
    "print(f\"Total de pixels : {imagem.size}\")"
   ]
  },
  {
   "cell_type": "code",
   "execution_count": null,
   "id": "6c4f56b4-c4f9-425f-a193-3e1c8e93fe31",
   "metadata": {},
   "outputs": [],
   "source": []
  }
 ],
 "metadata": {
  "kernelspec": {
   "display_name": "Python 3 (ipykernel)",
   "language": "python",
   "name": "python3"
  },
  "language_info": {
   "codemirror_mode": {
    "name": "ipython",
    "version": 3
   },
   "file_extension": ".py",
   "mimetype": "text/x-python",
   "name": "python",
   "nbconvert_exporter": "python",
   "pygments_lexer": "ipython3",
   "version": "3.13.2"
  }
 },
 "nbformat": 4,
 "nbformat_minor": 5
}
