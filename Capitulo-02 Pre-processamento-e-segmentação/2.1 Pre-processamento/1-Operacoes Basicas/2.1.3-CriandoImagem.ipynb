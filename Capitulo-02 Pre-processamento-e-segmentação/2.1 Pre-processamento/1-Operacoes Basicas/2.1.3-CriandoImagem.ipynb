{
 "cells": [
  {
   "cell_type": "code",
   "execution_count": 1,
   "id": "87cf961e-f7b5-4450-a197-a9628455de68",
   "metadata": {},
   "outputs": [
    {
     "name": "stdout",
     "output_type": "stream",
     "text": [
      "Pixel na posição (0,0) - [225 255   0]\n"
     ]
    },
    {
     "data": {
      "image/png": "[encoded data removed]",
      "text/plain": [
       "<Figure size 500x500 with 1 Axes>"
      ]
     },
     "metadata": {},
     "output_type": "display_data"
    }
   ],
   "source": [
    "import cv2\n",
    "import numpy as np\t\t\n",
    "import matplotlib.pyplot as plt\n",
    "\n",
    "red = np.array([[225,3,5],[5,5,5],[7,100,3]],dtype=np.uint8)\n",
    "green = np.array([[255,5,5],[7,8,9],[2,3,4]], dtype=np.uint8)\n",
    "blue = np.array([[0,5,6],[2,2,6],[6,5,80]], dtype=np.uint8)\t\t\n",
    "matriz3D = np.zeros((3,3,3),dtype=np.uint8)\t\n",
    "\t\n",
    "#adicionando os canais \n",
    "matriz3D[:,:,0] = red\n",
    "matriz3D[:,:,1] = green\n",
    "matriz3D[:,:,2] = blue\t\n",
    "\t\n",
    "plt.figure(figsize=(5,5))\n",
    "\t\n",
    "#Obtendo e imprimindo pixel na posição (0, 0 m) \n",
    "print(f\"Pixel na posição (0,0) - {matriz3D[0,0]}\")\n",
    "plt.imshow(matriz3D)\n",
    "plt.show()"
   ]
  },
  {
   "cell_type": "code",
   "execution_count": null,
   "id": "e6970d1d-9117-4786-9a0e-b32f133c7ec2",
   "metadata": {},
   "outputs": [],
   "source": []
  }
 ],
 "metadata": {
  "kernelspec": {
   "display_name": "Python 3 (ipykernel)",
   "language": "python",
   "name": "python3"
  },
  "language_info": {
   "codemirror_mode": {
    "name": "ipython",
    "version": 3
   },
   "file_extension": ".py",
   "mimetype": "text/x-python",
   "name": "python",
   "nbconvert_exporter": "python",
   "pygments_lexer": "ipython3",
   "version": "3.13.2"
  }
 },
 "nbformat": 4,
 "nbformat_minor": 5
}
