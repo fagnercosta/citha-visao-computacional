{
 "cells": [
  {
   "cell_type": "code",
   "execution_count": 1,
   "id": "44f665da-9953-4a4c-9103-a202d5633b62",
   "metadata": {},
   "outputs": [
    {
     "name": "stdout",
     "output_type": "stream",
     "text": [
      "Valor do pixel na posição (0, 0): [  5  62 171]\n"
     ]
    }
   ],
   "source": [
    "import cv2\n",
    "\n",
    "imagem = cv2.imread(\"frutas2.jpg\")\n",
    "pixelAlvo = imagem[0, 0]\n",
    "print(f\"Valor do pixel na posição (0, 0): {pixelAlvo}\")"
   ]
  },
  {
   "cell_type": "code",
   "execution_count": null,
   "id": "6c4f56b4-c4f9-425f-a193-3e1c8e93fe31",
   "metadata": {},
   "outputs": [],
   "source": []
  }
 ],
 "metadata": {
  "kernelspec": {
   "display_name": "Python 3 (ipykernel)",
   "language": "python",
   "name": "python3"
  },
  "language_info": {
   "codemirror_mode": {
    "name": "ipython",
    "version": 3
   },
   "file_extension": ".py",
   "mimetype": "text/x-python",
   "name": "python",
   "nbconvert_exporter": "python",
   "pygments_lexer": "ipython3",
   "version": "3.13.2"
  }
 },
 "nbformat": 4,
 "nbformat_minor": 5
}
