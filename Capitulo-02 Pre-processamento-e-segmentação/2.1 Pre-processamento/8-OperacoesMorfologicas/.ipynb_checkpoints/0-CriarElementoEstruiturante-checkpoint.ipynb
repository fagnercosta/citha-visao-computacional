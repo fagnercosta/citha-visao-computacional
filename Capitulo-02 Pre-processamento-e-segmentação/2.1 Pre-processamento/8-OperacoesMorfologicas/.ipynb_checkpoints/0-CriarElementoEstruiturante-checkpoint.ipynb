{
 "cells": [
  {
   "cell_type": "code",
   "execution_count": 1,
   "id": "bb827c78-7251-40fb-aa79-e6a66b848be5",
   "metadata": {},
   "outputs": [
    {
     "name": "stdout",
     "output_type": "stream",
     "text": [
      "Retangulo\n",
      "[[1 1 1 1 1]\n",
      " [1 1 1 1 1]\n",
      " [1 1 1 1 1]\n",
      " [1 1 1 1 1]\n",
      " [1 1 1 1 1]]\n",
      "\n",
      "\n",
      "Elispe\n",
      "[[0 0 1 0 0]\n",
      " [1 1 1 1 1]\n",
      " [1 1 1 1 1]\n",
      " [1 1 1 1 1]\n",
      " [0 0 1 0 0]]\n",
      "\n",
      "\n",
      "Cruz\n",
      "[[0 0 1 0 0]\n",
      " [0 0 1 0 0]\n",
      " [1 1 1 1 1]\n",
      " [0 0 1 0 0]\n",
      " [0 0 1 0 0]]\n"
     ]
    }
   ],
   "source": [
    "import numpy as np\n",
    "import cv2\n",
    "\n",
    "retangulo = cv2.getStructuringElement(cv2.MORPH_RECT,(5,5))\n",
    "elipse = cv2.getStructuringElement(cv2.MORPH_ELLIPSE,(5,5))\n",
    "cruz = cv2.getStructuringElement(cv2.MORPH_CROSS,(5,5))\n",
    "\n",
    "print(\"Retangulo\")\n",
    "print(retangulo)\n",
    "print(\"\\n\")\n",
    "print(\"Elispe\")\n",
    "print(elipse)\n",
    "print(\"\\n\")\n",
    "print(\"Cruz\")\n",
    "print(cruz)"
   ]
  },
  {
   "cell_type": "code",
   "execution_count": null,
   "id": "ced660f8-6288-483f-b0a4-daa4f6349fce",
   "metadata": {},
   "outputs": [],
   "source": []
  }
 ],
 "metadata": {
  "kernelspec": {
   "display_name": "Python 3 (ipykernel)",
   "language": "python",
   "name": "python3"
  },
  "language_info": {
   "codemirror_mode": {
    "name": "ipython",
    "version": 3
   },
   "file_extension": ".py",
   "mimetype": "text/x-python",
   "name": "python",
   "nbconvert_exporter": "python",
   "pygments_lexer": "ipython3",
   "version": "3.13.2"
  }
 },
 "nbformat": 4,
 "nbformat_minor": 5
}
