{
 "cells": [
  {
   "cell_type": "code",
   "execution_count": 2,
   "id": "88d73461-23aa-46b0-8986-f6b66068c973",
   "metadata": {},
   "outputs": [],
   "source": [
    "import cv2 as cv\n",
    "\n",
    "imgOriginal = cv.imread(\"einstein.jpg\")\n",
    "\n",
    "imgModificada = cv.resize(imgOriginal, None, fx=0.5, fy=0.5, interpolation=cv.INTER_AREA)\n",
    "\n",
    "cv.imshow(\"Imagem Original\", imgOriginal)\n",
    "cv.imshow(\"Imagem Modificada\", imgModificada)\n",
    "cv.waitKey(0)\n",
    "cv.destroyAllWindows()"
   ]
  },
  {
   "cell_type": "code",
   "execution_count": null,
   "id": "05651971-95cb-4516-b286-8084963d68b7",
   "metadata": {},
   "outputs": [],
   "source": []
  }
 ],
 "metadata": {
  "kernelspec": {
   "display_name": "Python 3 (ipykernel)",
   "language": "python",
   "name": "python3"
  },
  "language_info": {
   "codemirror_mode": {
    "name": "ipython",
    "version": 3
   },
   "file_extension": ".py",
   "mimetype": "text/x-python",
   "name": "python",
   "nbconvert_exporter": "python",
   "pygments_lexer": "ipython3",
   "version": "3.13.2"
  }
 },
 "nbformat": 4,
 "nbformat_minor": 5
}
