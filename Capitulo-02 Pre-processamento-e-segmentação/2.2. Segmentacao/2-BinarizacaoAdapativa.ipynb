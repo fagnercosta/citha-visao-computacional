{
 "cells": [
  {
   "cell_type": "code",
   "execution_count": 1,
   "id": "a4861e4f-10ea-4754-ad35-544c5f178eb1",
   "metadata": {},
   "outputs": [],
   "source": [
    "import\tcv2\n",
    "\n",
    "imgOriginal=cv2.imread(\"comprimidos.png\",0)\n",
    "imgTratada\t=\tcv2.medianBlur(imgOriginal,\t7)\n",
    "\n",
    "#Parametros\n",
    "valorMaximo = 255\n",
    "mascara = 11\n",
    "tipoAdaptacao = cv2.ADAPTIVE_THRESH_GAUSSIAN_C\n",
    "tipoBinarizacao = cv2.THRESH_BINARY_INV\n",
    "constante = 5\n",
    "\n",
    "imgBinarizada\t=\tcv2.adaptiveThreshold(imgTratada, valorMaximo,tipoAdaptacao,tipoBinarizacao ,mascara\t,constante)\n",
    "cv2.imshow(\"Imagem\tOriginal\",\timgOriginal)\n",
    "cv2.imshow(\"Imagem\tTratada\",\timgBinarizada)\n",
    "cv2.waitKey(0)\n",
    "cv2.destroyAllWindows()"
   ]
  },
  {
   "cell_type": "code",
   "execution_count": null,
   "id": "d80cc3ed-256f-4517-b14e-d0432db8165b",
   "metadata": {},
   "outputs": [],
   "source": []
  }
 ],
 "metadata": {
  "kernelspec": {
   "display_name": "Python 3 (ipykernel)",
   "language": "python",
   "name": "python3"
  },
  "language_info": {
   "codemirror_mode": {
    "name": "ipython",
    "version": 3
   },
   "file_extension": ".py",
   "mimetype": "text/x-python",
   "name": "python",
   "nbconvert_exporter": "python",
   "pygments_lexer": "ipython3",
   "version": "3.13.2"
  }
 },
 "nbformat": 4,
 "nbformat_minor": 5
}
