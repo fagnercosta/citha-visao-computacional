{
 "cells": [
  {
   "cell_type": "code",
   "execution_count": 1,
   "id": "1946e021-7b04-4aac-8e75-56417f38962c",
   "metadata": {},
   "outputs": [],
   "source": [
    "import cv2\n",
    "import numpy as np\n",
    "\n",
    "# Carrega a imagem diretamente em tons de cinza\n",
    "imagem = cv2.imread(\"graoes-de-cafe.png\", 0)\n",
    "\n",
    "# Binariza a imagem para separar os grãos do fundo\n",
    "metodo = cv2.THRESH_BINARY_INV\n",
    "ret, imgBinarizada = cv2.threshold(imagem, 135, 255, metodo)\n",
    "\n",
    "# Aplica operações morfológicas para limpar a imagem binarizada\n",
    "elementoEstruturante = np.ones((3, 3), np.uint8)\n",
    "imgTratada = cv2.morphologyEx(imgBinarizada, cv2.MORPH_CLOSE, elementoEstruturante)\n",
    "imgTratada = cv2.erode(imgTratada, elementoEstruturante, iterations=2)\n",
    "\n",
    "# Aplica o detector de bordas de Canny na imagem tratada\n",
    "imgSegmentada = cv2.Canny(imgTratada, 100, 200)\n",
    "\n",
    "cv2.imshow(\"Imagem Original\", imagem)\n",
    "cv2.imshow(\"Binarizada\", imgBinarizada)\n",
    "cv2.imshow(\"Tratada\", imgTratada)\n",
    "cv2.imshow(\"Segmentada por Bordas\", imgSegmentada)\n",
    "\n",
    "cv2.waitKey(0)\n",
    "cv2.destroyAllWindows()"
   ]
  },
  {
   "cell_type": "code",
   "execution_count": null,
   "id": "82aafa9f-99ff-4d8a-a012-c6559b0ff0f1",
   "metadata": {},
   "outputs": [],
   "source": []
  }
 ],
 "metadata": {
  "kernelspec": {
   "display_name": "Python 3 (ipykernel)",
   "language": "python",
   "name": "python3"
  },
  "language_info": {
   "codemirror_mode": {
    "name": "ipython",
    "version": 3
   },
   "file_extension": ".py",
   "mimetype": "text/x-python",
   "name": "python",
   "nbconvert_exporter": "python",
   "pygments_lexer": "ipython3",
   "version": "3.13.2"
  }
 },
 "nbformat": 4,
 "nbformat_minor": 5
}
