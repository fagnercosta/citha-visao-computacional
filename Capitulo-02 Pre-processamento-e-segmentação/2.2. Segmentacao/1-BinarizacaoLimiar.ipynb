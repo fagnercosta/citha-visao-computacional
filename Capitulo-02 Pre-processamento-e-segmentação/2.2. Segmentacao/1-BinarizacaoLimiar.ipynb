{
 "cells": [
  {
   "cell_type": "code",
   "execution_count": 1,
   "id": "6556f3dc-ff4d-40d9-b549-1e7bc1338fcf",
   "metadata": {},
   "outputs": [],
   "source": [
    "import cv2\n",
    "\n",
    "# Carrega a imagem e já a converte para tons de cinza\n",
    "imgOriginal = cv2.imread('lenaCinza.jpg', cv2.IMREAD_GRAYSCALE)\n",
    "\n",
    "# Variável para o limiar\n",
    "LIMIAR = 110\n",
    "\n",
    "# Aplica a binarização\n",
    "# A função retorna o limiar usado e a imagem binarizada\n",
    "retorno, imgBinarizada = cv2.threshold(imgOriginal, LIMIAR, 255, cv2.THRESH_BINARY)\n",
    "\n",
    "cv2.imshow(\"Imagem Original\", imgOriginal)\n",
    "cv2.imshow(\"Imagem Binarizada\", imgBinarizada)\n",
    "cv2.waitKey(0)\n",
    "cv2.destroyAllWindows()"
   ]
  },
  {
   "cell_type": "code",
   "execution_count": null,
   "id": "86aa1f05-ac8a-471b-a1c9-13bf796ceafe",
   "metadata": {},
   "outputs": [],
   "source": []
  }
 ],
 "metadata": {
  "kernelspec": {
   "display_name": "Python 3 (ipykernel)",
   "language": "python",
   "name": "python3"
  },
  "language_info": {
   "codemirror_mode": {
    "name": "ipython",
    "version": 3
   },
   "file_extension": ".py",
   "mimetype": "text/x-python",
   "name": "python",
   "nbconvert_exporter": "python",
   "pygments_lexer": "ipython3",
   "version": "3.13.2"
  }
 },
 "nbformat": 4,
 "nbformat_minor": 5
}
