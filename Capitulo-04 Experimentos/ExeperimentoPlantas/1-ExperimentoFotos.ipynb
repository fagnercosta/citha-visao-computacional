{
 "cells": [
  {
   "cell_type": "code",
   "execution_count": 2,
   "id": "a2e25089-fa2f-4e70-b824-b8a6651b0ff6",
   "metadata": {},
   "outputs": [
    {
     "name": "stdout",
     "output_type": "stream",
     "text": [
      "\n",
      "0: 480x640 1 17, 57.2ms\n",
      "Speed: 1.7ms preprocess, 57.2ms inference, 0.7ms postprocess per image at shape (1, 3, 480, 640)\n"
     ]
    },
    {
     "data": {
      "text/plain": [
       "True"
      ]
     },
     "execution_count": 2,
     "metadata": {},
     "output_type": "execute_result"
    }
   ],
   "source": [
    "from ultralytics import YOLO\n",
    "import cv2\n",
    "import numpy as np\n",
    "\n",
    "# Carregar o modelo treinado\n",
    "model = YOLO(\"dataset_doencas_plantas.pt\")\n",
    "\n",
    "# Carregar a imagem\n",
    "image_path = \"folhaDoente.jpg\"  # Substitua pelo caminho da sua imagem\n",
    "frame = cv2.imread(image_path)\n",
    "\n",
    "if frame is None:\n",
    "    print(\"Erro: Não foi possível carregar a imagem\")\n",
    "    exit()\n",
    "\n",
    "# Realizar a predição\n",
    "results = model.predict(source=frame, show=False, conf=0.2)\n",
    "\n",
    "# Copiar o frame original para desenhar\n",
    "annotated_frame = frame.copy()\n",
    "\n",
    "# Verificar as detecções\n",
    "plantasDoentes = False\n",
    "for result in results:\n",
    "    boxes = result.boxes  # Caixas delimitadoras\n",
    "    for box in boxes:\n",
    "        \n",
    "        if result.names[int(box.cls)] == '15' or result.names[int(box.cls)] == '16' or result.names[int(box.cls)] == '17' or result.names[int(box.cls)]==\"blight\":  # Ajuste o nome ou ID da classe conforme seu modelo\n",
    "            plantasDoentes = True\n",
    "            # Obter coordenadas da caixa delimitadora\n",
    "            x1, y1, x2, y2 = map(int, box.xyxy[0])\n",
    "            # Desenhar retângulo vermelho no frame\n",
    "            cv2.rectangle(annotated_frame, (x1+10, y1+10), (x2, y2), (0, 0, 255), 2)\n",
    "            # Adicionar rótulo com o nome da classe\n",
    "            cv2.putText(annotated_frame, \"Doencas detectadas\", (x1+100, y1 + 200), \n",
    "                        cv2.FONT_HERSHEY_SIMPLEX, 0.9, (0, 0, 255), 2)\n",
    "\n",
    "if plantasDoentes == False:\n",
    "    \n",
    "    cv2.rectangle(annotated_frame, (100, 400), (500, 100), (0, 0, 255), 2)\n",
    "            # Adicionar rótulo com o nome da classe\n",
    "    cv2.putText(annotated_frame, \"Planta Saudavel\", (200, 100), \n",
    "    cv2.FONT_HERSHEY_SIMPLEX, 0.9, (0, 0, 255), 2)\n",
    "\n",
    "\n",
    "# Exibir a imagem com as detecções\n",
    "cv2.imshow(\"Folhas\", annotated_frame)\n",
    "cv2.waitKey(0)  # Aguarda até que uma tecla seja pressionada\n",
    "cv2.destroyAllWindows()\n",
    "\n",
    "# Opcional: Salvar a imagem com as detecções\n",
    "cv2.imwrite(\"Folhas.jpg\", annotated_frame)"
   ]
  },
  {
   "cell_type": "code",
   "execution_count": null,
   "id": "e08d3d7f-6f80-4ee0-8af6-a0d87da0d1c0",
   "metadata": {},
   "outputs": [],
   "source": []
  },
  {
   "cell_type": "code",
   "execution_count": null,
   "id": "6e9a5af3-0f7a-48d5-bc48-2ecd550aff21",
   "metadata": {},
   "outputs": [],
   "source": []
  },
  {
   "cell_type": "code",
   "execution_count": null,
   "id": "f1474b99-1988-4e65-9df0-91d229953022",
   "metadata": {},
   "outputs": [],
   "source": []
  }
 ],
 "metadata": {
  "kernelspec": {
   "display_name": "Python 3 (ipykernel)",
   "language": "python",
   "name": "python3"
  },
  "language_info": {
   "codemirror_mode": {
    "name": "ipython",
    "version": 3
   },
   "file_extension": ".py",
   "mimetype": "text/x-python",
   "name": "python",
   "nbconvert_exporter": "python",
   "pygments_lexer": "ipython3",
   "version": "3.13.2"
  }
 },
 "nbformat": 4,
 "nbformat_minor": 5
}
