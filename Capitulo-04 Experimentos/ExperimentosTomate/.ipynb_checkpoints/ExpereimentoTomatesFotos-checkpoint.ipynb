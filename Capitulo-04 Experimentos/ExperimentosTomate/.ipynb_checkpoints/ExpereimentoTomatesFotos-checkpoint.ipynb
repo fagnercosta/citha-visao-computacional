{
 "cells": [
  {
   "cell_type": "code",
   "execution_count": 1,
   "id": "6ec7e61c-e254-47ce-aff7-f91f08ac375c",
   "metadata": {},
   "outputs": [
    {
     "name": "stdout",
     "output_type": "stream",
     "text": [
      "\n",
      "image 1/1 C:\\Users\\PC\\Documents\\CITHA\\citha-visao-computacional\\Capitulo-04 Experimentos\\ExperimentosTomate\\01-B.png: 640x640 6 Goods, 283.6ms\n",
      "Speed: 2.5ms preprocess, 283.6ms inference, 3.2ms postprocess per image at shape (1, 3, 640, 640)\n",
      "Tomates Maduros: 6\n",
      "Tomates Podres: 6\n",
      "Tomates Verdes: 0\n"
     ]
    }
   ],
   "source": [
    "import cv2\n",
    "import numpy as np\n",
    "from ultralytics import YOLO  # Biblioteca YOLOv8, instale com `pip install ultralytics`\n",
    "\n",
    "model = YOLO('dataSet.pt')  # Exemplo: substitua pelo caminho do seu modelo treinado\n",
    "\n",
    "# Definir rótulos e cores (ajuste conforme as classes do seu modelo)\n",
    "labels = {0: \"Estragado\", 1: \"Bom\", 2: \"Verde\"}  # Ajuste os IDs conforme o treinamento\n",
    "colors = {0: (0, 0, 255), 1: (0, 255, 0), 2: (255, 0, 0)}  # Vermelho, Verde, Azul\n",
    "\n",
    "# Função para classificar e contar tomates em uma imagem\n",
    "def classify_tomatoes(image_path):\n",
    "\t# Fazer a previsão com o modelo\n",
    "\tresults = model.predict(image_path, save=False, imgsz=640, conf=0.6)\n",
    "\t\n",
    "\t# Contadores\n",
    "\tcount_bons = 0\n",
    "\tcount_estragados = 0\n",
    "\tcount_verdes = 0\n",
    "\t\n",
    "\t# Carregar a imagem para desenho\n",
    "\timg = cv2.imread(image_path)\n",
    "\tif img is None:\n",
    "\t\tprint(f\"Erro ao carregar a imagem {image_path}!\")\n",
    "\t\treturn None\n",
    "\t\t\n",
    "\t# Processar cada resultado\n",
    "\tfor result in results:\n",
    "\t\tboxes = result.boxes\n",
    "\t\tfor box in boxes:\n",
    "\t\t\tx1, y1, x2, y2 = map(int, box.xyxy[0])\n",
    "\t\t\tclass_id = int(box.cls[0])\n",
    "\t\t\tconfidence = float(box.conf[0])\n",
    "\t\t\t\n",
    "\t\t\t# Definir rótulo e cor\n",
    "\t\t\tlabel_text = f\"{labels.get(class_id, 'Desconhecido')} {confidence:.2f}\"\n",
    "\t\t\tcolor = colors.get(class_id, (255, 255, 255))\n",
    "\t\t\t\n",
    "\t\t\t# Desenhar retângulo e texto\n",
    "\t\t\tcv2.rectangle(img, (x1, y1), (x2, y2), color, 2)\n",
    "\t\t\tcv2.putText(img, label_text, (x1, y1 - 10), cv2.FONT_HERSHEY_SIMPLEX, 0.6, color, 2)\n",
    "\t\t\t\n",
    "\t\t\t# Contar por categoria\n",
    "\t\t\tif class_id == 1:\n",
    "\t\t\t\tcount_bons += 1\n",
    "\t\t\telif class_id == 0:\n",
    "\t\t\t\tcount_estragados += 1\n",
    "\t\t\telif class_id == 2:\n",
    "\t\t\t\tcount_verdes += 1\n",
    "\t\n",
    "\t# Exibir contagens\n",
    "\tprint(f\"Tomates Maduros: {count_bons}\")\n",
    "\tprint(f\"Tomates Podres: {count_bons}\")\n",
    "\tprint(f\"Tomates Verdes: {count_verdes}\")\n",
    "\t\n",
    "\treturn img\n",
    "\n",
    "# Caminho da imagem com vários tomates (ex.: um cacho)\n",
    "imagem_com_tomates_para_classificar = \"01-B.png\"  \n",
    "\n",
    "# Classificar a imagem e exibir resultados\n",
    "resultado_img = classify_tomatoes(imagem_com_tomates_para_classificar)\n",
    "if resultado_img is not None:\n",
    "\tcv2.imshow(\"Detector de Toames\", resultado_img)\n",
    "\tcv2.waitKey(0)\n",
    "\tcv2.destroyAllWindows()"
   ]
  },
  {
   "cell_type": "code",
   "execution_count": null,
   "id": "5c2ea2ec-1a85-4b55-881b-b358c3ee3c4f",
   "metadata": {},
   "outputs": [],
   "source": []
  }
 ],
 "metadata": {
  "kernelspec": {
   "display_name": "Python 3 (ipykernel)",
   "language": "python",
   "name": "python3"
  },
  "language_info": {
   "codemirror_mode": {
    "name": "ipython",
    "version": 3
   },
   "file_extension": ".py",
   "mimetype": "text/x-python",
   "name": "python",
   "nbconvert_exporter": "python",
   "pygments_lexer": "ipython3",
   "version": "3.13.2"
  }
 },
 "nbformat": 4,
 "nbformat_minor": 5
}
