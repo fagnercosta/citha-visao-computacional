{
 "cells": [
  {
   "cell_type": "code",
   "execution_count": null,
   "id": "a7685a68-df86-4505-b950-57c2dfc4b34c",
   "metadata": {},
   "outputs": [],
   "source": [
    "import cv2 as cv\n",
    "\n",
    "# Carregando imagem (o padrão já é BGR/colorida)\n",
    "imagemColorida = cv.imread(\"frutas2.jpg\")\n",
    "\n",
    "# Convertendo a imagem de BGR para tons de cinza\n",
    "imagemCinza = cv.cvtColor(imagemColorida, cv.COLOR_BGR2GRAY)\n",
    "\n",
    "# Exibindo as imagens\n",
    "cv.imshow(\"Imagem Colorida\", imagemColorida)\n",
    "cv.imshow(\"Imagem em Tons de Cinza\", imagemCinza)\n",
    "\n",
    "cv.waitKey(0)\n",
    "cv.destroyAllWindows()"
   ]
  },
  {
   "cell_type": "code",
   "execution_count": null,
   "id": "c94b5952-5028-4125-b66b-8797f20bd697",
   "metadata": {},
   "outputs": [],
   "source": []
  }
 ],
 "metadata": {
  "kernelspec": {
   "display_name": "Python 3 (ipykernel)",
   "language": "python",
   "name": "python3"
  },
  "language_info": {
   "codemirror_mode": {
    "name": "ipython",
    "version": 3
   },
   "file_extension": ".py",
   "mimetype": "text/x-python",
   "name": "python",
   "nbconvert_exporter": "python",
   "pygments_lexer": "ipython3",
   "version": "3.13.2"
  }
 },
 "nbformat": 4,
 "nbformat_minor": 5
}
