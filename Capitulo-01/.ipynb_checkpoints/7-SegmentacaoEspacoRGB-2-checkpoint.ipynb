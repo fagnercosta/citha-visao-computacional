{
 "cells": [
  {
   "cell_type": "code",
   "execution_count": null,
   "id": "5bc3053b-0714-4d9d-93c1-27673bb4f2b8",
   "metadata": {},
   "outputs": [],
   "source": [
    "import cv2\n",
    "import numpy as np\n",
    "\n",
    "# Carregando imagem RGB e segmentando canais\n",
    "imagem = cv2.imread(\"frutas2.jpg\", cv2.IMREAD_COLOR)\n",
    "azul, verde, vermelho = cv2.split(imagem)\n",
    "\n",
    "# Exibindo imagens dos canais separados\n",
    "cv2.imshow(\"Imagem Original\", imagem)\n",
    "cv2.imshow(\"Canal RED\", vermelho)\n",
    "cv2.imshow(\"Canal GREEN\", verde)\n",
    "cv2.imshow(\"Canal BLUE\", azul)\n",
    "\n",
    "cv2.waitKey(0)\n",
    "cv2.destroyAllWindows()"
   ]
  },
  {
   "cell_type": "code",
   "execution_count": null,
   "id": "19fc9033-d08b-4900-b52b-08e9afefd5e2",
   "metadata": {},
   "outputs": [],
   "source": []
  }
 ],
 "metadata": {
  "kernelspec": {
   "display_name": "Python 3 (ipykernel)",
   "language": "python",
   "name": "python3"
  },
  "language_info": {
   "codemirror_mode": {
    "name": "ipython",
    "version": 3
   },
   "file_extension": ".py",
   "mimetype": "text/x-python",
   "name": "python",
   "nbconvert_exporter": "python",
   "pygments_lexer": "ipython3",
   "version": "3.13.2"
  }
 },
 "nbformat": 4,
 "nbformat_minor": 5
}
