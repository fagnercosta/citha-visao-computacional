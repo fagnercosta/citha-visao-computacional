{
 "cells": [
  {
   "cell_type": "code",
   "execution_count": null,
   "id": "c24c3089-e2cd-4ab9-bde5-884c5064d1d2",
   "metadata": {},
   "outputs": [],
   "source": [
    "import matplotlib.pyplot as plt\n",
    "import cv2 as cv\n",
    "import numpy as np"
   ]
  },
  {
   "cell_type": "code",
   "execution_count": 15,
   "id": "878ce277-e0c1-4b34-8cf2-63ba6ef1d161",
   "metadata": {},
   "outputs": [],
   "source": [
    "RED = np.array([\n",
    "    [0, 1, 1, 1, 1, 1, 0, 1, 1],\n",
    "    [1, 1, 1, 1, 1, 1, 1, 0, 1],\n",
    "    [1, 1, 1, 1, 1, 1, 1, 1, 0],\n",
    "    [0, 1, 1, 1, 1, 1, 1, 1, 0],\n",
    "    [1, 1, 0, 0, 0, 0, 0, 0, 1],\n",
    "    [1, 1, 1, 1, 1, 1, 0, 1, 1],\n",
    "    [1, 1, 1, 1, 1, 1, 0, 1, 1],\n",
    "    [1, 1, 1, 1, 0, 0, 1, 1, 0]\n",
    "])\n",
    "\n",
    "\n",
    "GREN = np.array([\n",
    "    [1, 1, 0, 0, 0, 0, 0, 1, 1],\n",
    "    [1, 0, 1, 0, 0, 1, 1, 0, 1],\n",
    "    [0, 0, 1, 0, 0, 1, 0, 1, 0],\n",
    "    [0, 0, 0, 1, 1, 0, 0, 1, 0],\n",
    "    [1, 0, 0, 0, 0, 0, 0, 0, 1],\n",
    "    [1, 1, 0, 1, 1, 1, 0, 1, 1],\n",
    "    [1, 1, 0, 1, 1, 1, 0, 1, 1],\n",
    "    [1, 1, 1, 0, 0, 0, 1, 1, 0]\n",
    "])\n",
    "\n",
    "\n",
    "\n",
    "BLUE = np.array([\n",
    "    [1, 1, 0, 0, 1, 0, 0, 1, 1],\n",
    "    [1, 0, 1, 0, 0, 0, 1, 0, 1],\n",
    "    [0, 0, 1, 0, 0, 1, 0, 1, 0],\n",
    "    [0, 0, 0, 1, 1, 0, 0, 1, 0],\n",
    "    [1, 0, 0, 1,1, 0, 0, 0, 1],\n",
    "    [1, 1, 1, 1, 1, 1, 1, 1, 1],\n",
    "    [1, 1, 1, 1, 1, 1, 1, 1, 1],\n",
    "    [1, 1, 1, 1, 1, 1, 1, 1, 1]\n",
    "   \n",
    "\n",
    "])\n",
    "\n",
    "\n"
   ]
  },
  {
   "cell_type": "code",
   "execution_count": 16,
   "id": "4a85ba66-f5a6-493a-b3e2-fa18b0a2bd65",
   "metadata": {},
   "outputs": [],
   "source": [
    "# cria matriz 8x9x3 nula\n",
    "M = np.zeros((8,9,3))\n",
    "# atribui R à 1ª camada de M\n",
    "M[:,:,0] = RED\n",
    "# atribui G à 2ª camada de M\n",
    "M[:,:,1] = GREN\n",
    "# atribui B à 3ª camada de M\n",
    "M[:,:,2] = BLUE\n"
   ]
  },
  {
   "cell_type": "code",
   "execution_count": 17,
   "id": "4006d166-4236-4968-bcdb-a06a014f3d02",
   "metadata": {},
   "outputs": [
    {
     "data": {
      "image/png": "[encoded data removed]",
      "text/plain": [
       "<Figure size 400x400 with 1 Axes>"
      ]
     },
     "metadata": {},
     "output_type": "display_data"
    }
   ],
   "source": [
    "plt.figure(figsize=(4,4))\n",
    "im = plt.imshow(M, aspect='auto')\n",
    "plt.axis(\"on\")\n",
    "plt.show()"
   ]
  },
  {
   "cell_type": "code",
   "execution_count": null,
   "id": "dd086336-661a-433b-b6d9-4b40061570ac",
   "metadata": {},
   "outputs": [],
   "source": []
  },
  {
   "cell_type": "code",
   "execution_count": null,
   "id": "e9b15107-3290-45cb-ae0f-961cfed2a508",
   "metadata": {},
   "outputs": [],
   "source": []
  },
  {
   "cell_type": "code",
   "execution_count": null,
   "id": "983f1f84-9150-4be6-bdae-e6d941cdae3b",
   "metadata": {},
   "outputs": [],
   "source": []
  }
 ],
 "metadata": {
  "kernelspec": {
   "display_name": "Python 3 (ipykernel)",
   "language": "python",
   "name": "python3"
  },
  "language_info": {
   "codemirror_mode": {
    "name": "ipython",
    "version": 3
   },
   "file_extension": ".py",
   "mimetype": "text/x-python",
   "name": "python",
   "nbconvert_exporter": "python",
   "pygments_lexer": "ipython3",
   "version": "3.13.2"
  },
  "vscode": {
   "interpreter": {
    "hash": "c957485d52a022ec0a8bf941af67c10cdee338019bd92c8e45b61e53026fcf99"
   }
  }
 },
 "nbformat": 4,
 "nbformat_minor": 5
}
