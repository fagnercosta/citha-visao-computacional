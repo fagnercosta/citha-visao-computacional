{
 "cells": [
  {
   "cell_type": "code",
   "execution_count": 1,
   "id": "9d01325f-2c78-495d-a822-962c66d251d2",
   "metadata": {
    "colab": {
     "base_uri": "https://localhost:8080/",
     "height": 617
    },
    "executionInfo": {
     "elapsed": 1028,
     "status": "ok",
     "timestamp": 1665789284997,
     "user": {
      "displayName": "Fagner Costa",
      "userId": "13518151958825080355"
     },
     "user_tz": 240
    },
    "id": "9d01325f-2c78-495d-a822-962c66d251d2",
    "outputId": "1c305275-80e6-4938-c954-c2339cd83700"
   },
   "outputs": [],
   "source": [
    "#Importando a biblioteca do OpenVC\n",
    "import cv2 as cv\n",
    "#Lendo a imagem no disco\n",
    "imagem = cv.imread(\"IFAM.png\")\n",
    "#Apresentando a imagem\n",
    "cv.imshow(\"Lendo Imagem\", imagem)\n",
    "#Definindo tecla para fechar a janela\n",
    "cv.waitKey(0 ) \n",
    "#Chefando a janela\n",
    "cv.destroyAllWindows()\n",
    "\n"
   ]
  },
  {
   "cell_type": "code",
   "execution_count": null,
   "id": "MArh8x7mt6KK",
   "metadata": {
    "id": "MArh8x7mt6KK"
   },
   "outputs": [],
   "source": []
  },
  {
   "cell_type": "code",
   "execution_count": null,
   "id": "HAdpUIUJuAYd",
   "metadata": {
    "id": "HAdpUIUJuAYd"
   },
   "outputs": [],
   "source": []
  },
  {
   "cell_type": "code",
   "execution_count": null,
   "id": "c866b571-42da-44b1-abc3-d8daa1c59e61",
   "metadata": {
    "id": "c866b571-42da-44b1-abc3-d8daa1c59e61"
   },
   "outputs": [],
   "source": []
  }
 ],
 "metadata": {
  "colab": {
   "provenance": [],
   "toc_visible": true
  },
  "kernelspec": {
   "display_name": "Python 3 (ipykernel)",
   "language": "python",
   "name": "python3"
  },
  "language_info": {
   "codemirror_mode": {
    "name": "ipython",
    "version": 3
   },
   "file_extension": ".py",
   "mimetype": "text/x-python",
   "name": "python",
   "nbconvert_exporter": "python",
   "pygments_lexer": "ipython3",
   "version": "3.13.2"
  },
  "vscode": {
   "interpreter": {
    "hash": "c957485d52a022ec0a8bf941af67c10cdee338019bd92c8e45b61e53026fcf99"
   }
  }
 },
 "nbformat": 4,
 "nbformat_minor": 5
}
