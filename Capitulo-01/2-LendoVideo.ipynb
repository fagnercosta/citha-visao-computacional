{
 "cells": [
  {
   "cell_type": "code",
   "execution_count": 1,
   "id": "a3e6bc27-92d1-4ee5-93c3-581200fe7d1b",
   "metadata": {},
   "outputs": [],
   "source": [
    "import cv2 \n",
    "\n",
    "captura = cv2.VideoCapture(\"Visao Computacional.mp4\")\n",
    "\n",
    "while captura.isOpened():\n",
    "  ret, frame = captura.read()\n",
    "  cv2.imshow('Frame', frame)\n",
    "  if cv2.waitKey(1) & 0xFF == ord(\"q\"):\n",
    "    break\n",
    "captura.release()\n",
    "cv2.destroyAllWindows()"
   ]
  },
  {
   "cell_type": "code",
   "execution_count": null,
   "id": "c7e25df7-52b4-43e7-a097-a7bba642f11d",
   "metadata": {},
   "outputs": [],
   "source": []
  }
 ],
 "metadata": {
  "kernelspec": {
   "display_name": "Python 3 (ipykernel)",
   "language": "python",
   "name": "python3"
  },
  "language_info": {
   "codemirror_mode": {
    "name": "ipython",
    "version": 3
   },
   "file_extension": ".py",
   "mimetype": "text/x-python",
   "name": "python",
   "nbconvert_exporter": "python",
   "pygments_lexer": "ipython3",
   "version": "3.13.2"
  }
 },
 "nbformat": 4,
 "nbformat_minor": 5
}
