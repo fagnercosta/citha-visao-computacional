{
 "cells": [
  {
   "cell_type": "code",
   "execution_count": null,
   "id": "e4b7e13e-c1f6-4ad1-82c8-ba410938b509",
   "metadata": {},
   "outputs": [
    {
     "name": "stdout",
     "output_type": "stream",
     "text": [
      "\n",
      "0: 448x640 1 fire, 2 smokes, 47.5ms\n",
      "Speed: 2.7ms preprocess, 47.5ms inference, 0.7ms postprocess per image at shape (1, 3, 448, 640)\n"
     ]
    }
   ],
   "source": [
    "from ultralytics import YOLO\n",
    "import cv2\n",
    "import numpy as np\n",
    "\n",
    "# Carregar o modelo treinado\n",
    "model = YOLO(\"yolov8n_queimadas.pt\")\n",
    "\n",
    "# Carregar a imagem\n",
    "image_path = \"fumaca.jpg\"  # Substitua pelo caminho da sua imagem\n",
    "frame = cv2.imread(image_path)\n",
    "\n",
    "if frame is None:\n",
    "    print(\"Erro: Não foi possível carregar a imagem\")\n",
    "    exit()\n",
    "\n",
    "# Realizar a predição\n",
    "results = model.predict(source=frame, show=False, conf=0.2)\n",
    "\n",
    "# Copiar o frame original para desenhar\n",
    "annotated_frame = frame.copy()\n",
    "\n",
    "# Verificar as detecções\n",
    "for result in results:\n",
    "    boxes = result.boxes  # Caixas delimitadoras\n",
    "    for box in boxes:\n",
    "        # Verificar se a classe detectada é \"fogo\" (substitua pelo ID ou nome correto da classe do seu modelo)\n",
    "        if result.names[int(box.cls)] == 'smoke':  # Ajuste o nome ou ID da classe conforme seu modelo\n",
    "            # Obter coordenadas da caixa delimitadora\n",
    "            x1, y1, x2, y2 = map(int, box.xyxy[0])\n",
    "            # Desenhar retângulo vermelho no frame\n",
    "            cv2.rectangle(annotated_frame, (x1, y1), (x2, y2), (0, 0, 255), 2)\n",
    "            # Adicionar rótulo com o nome da classe\n",
    "            cv2.putText(annotated_frame, \"Fumaça\", (x1, y1 - 10), \n",
    "                        cv2.FONT_HERSHEY_SIMPLEX, 0.9, (0, 0, 255), 2)\n",
    "\n",
    "        if result.names[int(box.cls)] == 'fire':  # Ajuste o nome ou ID da classe conforme seu modelo\n",
    "            # Obter coordenadas da caixa delimitadora\n",
    "            x1, y1, x2, y2 = map(int, box.xyxy[0])\n",
    "            # Desenhar retângulo vermelho no frame\n",
    "            cv2.rectangle(annotated_frame, (x1, y1), (x2, y2), (0, 0, 255), 2)\n",
    "            # Adicionar rótulo com o nome da classe\n",
    "            cv2.putText(annotated_frame, \"Fogo\", (x1, y1 - 10), \n",
    "                        cv2.FONT_HERSHEY_SIMPLEX, 0.9, (0, 0, 255), 2)\n",
    "\n",
    "# Exibir a imagem com as detecções\n",
    "cv2.imshow(\"YOLOv8 Queimadas\", annotated_frame)\n",
    "cv2.waitKey(0)  # Aguarda até que uma tecla seja pressionada\n",
    "cv2.destroyAllWindows()\n",
    "\n",
    "# Opcional: Salvar a imagem com as detecções\n",
    "cv2.imwrite(\"resultado_queimadas.jpg\", annotated_frame)"
   ]
  },
  {
   "cell_type": "code",
   "execution_count": null,
   "id": "663d5e9e-d3c3-47b3-8251-4fc76cad2b43",
   "metadata": {},
   "outputs": [],
   "source": []
  }
 ],
 "metadata": {
  "kernelspec": {
   "display_name": "Python 3 (ipykernel)",
   "language": "python",
   "name": "python3"
  },
  "language_info": {
   "codemirror_mode": {
    "name": "ipython",
    "version": 3
   },
   "file_extension": ".py",
   "mimetype": "text/x-python",
   "name": "python",
   "nbconvert_exporter": "python",
   "pygments_lexer": "ipython3",
   "version": "3.13.2"
  }
 },
 "nbformat": 4,
 "nbformat_minor": 5
}
