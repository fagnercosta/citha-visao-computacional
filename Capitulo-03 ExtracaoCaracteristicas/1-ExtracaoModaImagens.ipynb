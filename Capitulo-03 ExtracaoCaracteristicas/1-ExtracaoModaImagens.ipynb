{
 "cells": [
  {
   "cell_type": "code",
   "execution_count": 2,
   "id": "0595fd30-22d6-4b5c-936e-ff3c0e88b8a3",
   "metadata": {},
   "outputs": [
    {
     "name": "stdout",
     "output_type": "stream",
     "text": [
      "Dados obtidos:\n",
      "Moda da imagem binária: 0\n",
      "Moda da imagem em tons de cinza: 36\n"
     ]
    }
   ],
   "source": [
    "import cv2\n",
    "import statistics\n",
    "\n",
    "# Carrega as imagens em tons de cinza (0)\n",
    "imgRioBinaria = cv2.imread(\"rioBinaria.png\", 0)\n",
    "imgRioTonsDeCinza = cv2.imread(\"rioCinza.png\", 0)\n",
    "\n",
    "# Obtém a lista de valores de pixels de cada imagem\n",
    "dadosImagemBinaria = imgRioBinaria.ravel()\n",
    "dadosImagemTonsDeCinza = imgRioTonsDeCinza.ravel()\n",
    "\n",
    "print(\"Dados obtidos:\")\n",
    "print(f\"Moda da imagem binária: {statistics.mode(dadosImagemBinaria)}\")\n",
    "print(f\"Moda da imagem em tons de cinza: {statistics.mode(dadosImagemTonsDeCinza)}\")"
   ]
  },
  {
   "cell_type": "code",
   "execution_count": null,
   "id": "94319e93-d420-4fda-91d1-74888316deff",
   "metadata": {},
   "outputs": [],
   "source": []
  }
 ],
 "metadata": {
  "kernelspec": {
   "display_name": "Python 3 (ipykernel)",
   "language": "python",
   "name": "python3"
  },
  "language_info": {
   "codemirror_mode": {
    "name": "ipython",
    "version": 3
   },
   "file_extension": ".py",
   "mimetype": "text/x-python",
   "name": "python",
   "nbconvert_exporter": "python",
   "pygments_lexer": "ipython3",
   "version": "3.13.2"
  }
 },
 "nbformat": 4,
 "nbformat_minor": 5
}
