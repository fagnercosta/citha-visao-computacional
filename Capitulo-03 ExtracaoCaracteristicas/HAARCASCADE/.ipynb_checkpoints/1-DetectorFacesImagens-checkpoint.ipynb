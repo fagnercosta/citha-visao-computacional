{
 "cells": [
  {
   "cell_type": "code",
   "execution_count": 1,
   "id": "c479b0b1-f923-4b50-85c6-6173eb6e5e6f",
   "metadata": {},
   "outputs": [
    {
     "name": "stdout",
     "output_type": "stream",
     "text": [
      "11\n"
     ]
    }
   ],
   "source": [
    "import numpy as np\n",
    "import cv2\n",
    "\n",
    "cascadeFace = cv2.CascadeClassifier(\"haarcascade_frontalface_default.xml\")\n",
    "\n",
    "imagemOriginal = cv2.imread(\"selecao.png\")\n",
    "imagem = cv2.cvtColor(imagemOriginal, cv2.COLOR_BGR2GRAY)\n",
    "\n",
    "faces = cascadeFace.detectMultiScale(imagem, 1.3, 5,30)\n",
    "\n",
    "# Desenha um retângulo nas faces detectadas\n",
    "for (x,y,w,h) in faces:\n",
    "    cv2.rectangle(imagemOriginal, (x,y), (x+w, y+h), (0,255,0), 2)\n",
    "# Exibe o total de faces detectadas\n",
    "print(len(faces))\n",
    "\n",
    "cv2.imshow(\"Resultado\", imagemOriginal)\n",
    "cv2.waitKey(0)\n",
    "cv2.destroyAllWindows()"
   ]
  },
  {
   "cell_type": "code",
   "execution_count": null,
   "id": "142a3d20-0da6-410d-96f5-578c8ab568bb",
   "metadata": {},
   "outputs": [],
   "source": []
  }
 ],
 "metadata": {
  "kernelspec": {
   "display_name": "Python 3 (ipykernel)",
   "language": "python",
   "name": "python3"
  },
  "language_info": {
   "codemirror_mode": {
    "name": "ipython",
    "version": 3
   },
   "file_extension": ".py",
   "mimetype": "text/x-python",
   "name": "python",
   "nbconvert_exporter": "python",
   "pygments_lexer": "ipython3",
   "version": "3.13.2"
  }
 },
 "nbformat": 4,
 "nbformat_minor": 5
}
