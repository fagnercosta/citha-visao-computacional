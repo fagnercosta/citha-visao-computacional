{
 "cells": [
  {
   "cell_type": "code",
   "execution_count": 1,
   "id": "075b5b0e-6968-40b1-8f61-b1bdfe4a5e73",
   "metadata": {},
   "outputs": [],
   "source": [
    "import numpy as np\n",
    "import cv2\n",
    "\n",
    "# Capturar Vídeo...\n",
    "cap = cv2.VideoCapture(0)\n",
    "\n",
    "# Carregar Haarcascade classificador\n",
    "face_cascade = cv2.CascadeClassifier('haarcascade_frontalface_default.xml')\n",
    "\n",
    "while(True):\n",
    "\n",
    "\t# ler frames\n",
    "\tretorno, frame = cap.read()\n",
    "\t\n",
    "\t# Transoformar frame em nível de cinza\n",
    "\tgray = cv2.cvtColor(frame, cv2.COLOR_BGR2GRAY)\n",
    "\t\n",
    "\t# Detectar faces\n",
    "\tfaces = face_cascade.detectMultiScale(gray, 1.3, 8)\n",
    "\t\n",
    "\t# Listar e desenhar triangulos na face\n",
    "\tfor (x,y,w,h) in faces:\n",
    "\t\t# desennhar relangulos \n",
    "\t\tcv2.rectangle(frame,(x,y),(x+w,y+h),(0,255,255),2)\n",
    "\t\n",
    "\t# exibir imagem \n",
    "\tcv2.imshow('frame',frame)\n",
    "\t\n",
    "\tif cv2.waitKey(15) & 0xFF == ord('q'):\n",
    "\t\tbreak\n",
    "\n",
    "cap.release()\n",
    "cv2.destroyAllWindows()"
   ]
  },
  {
   "cell_type": "code",
   "execution_count": null,
   "id": "6150b8bd-f732-4f6b-ab10-ae67caed37f3",
   "metadata": {},
   "outputs": [],
   "source": []
  }
 ],
 "metadata": {
  "kernelspec": {
   "display_name": "Python 3 (ipykernel)",
   "language": "python",
   "name": "python3"
  },
  "language_info": {
   "codemirror_mode": {
    "name": "ipython",
    "version": 3
   },
   "file_extension": ".py",
   "mimetype": "text/x-python",
   "name": "python",
   "nbconvert_exporter": "python",
   "pygments_lexer": "ipython3",
   "version": "3.13.2"
  }
 },
 "nbformat": 4,
 "nbformat_minor": 5
}
