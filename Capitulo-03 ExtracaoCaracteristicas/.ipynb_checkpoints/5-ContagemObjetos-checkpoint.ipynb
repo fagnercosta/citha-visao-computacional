{
 "cells": [
  {
   "cell_type": "code",
   "execution_count": 2,
   "id": "75fd93cc-6a5b-4adf-afda-3d451326243c",
   "metadata": {},
   "outputs": [
    {
     "name": "stdout",
     "output_type": "stream",
     "text": [
      "Foram encontrados 200 objetos.\n"
     ]
    }
   ],
   "source": [
    "import cv2\n",
    "\n",
    "# Passo 1: Carregar a imagem original\n",
    "imagemOriginal = cv2.imread(\"bolinhaAmarelas.png\")\n",
    "\n",
    "# Passo 2: Converter para tons de cinza\n",
    "imagemCorCinza = cv2.cvtColor(imagemOriginal, cv2.COLOR_BGR2GRAY)\n",
    "\n",
    "# Passo 3: Aplicar filtro GaussianBlur para suavizar e reduzir ruído\n",
    "imgTratada = cv2.GaussianBlur(imagemCorCinza, (11, 11), 0)\n",
    "\n",
    "# Passo 4: Binarizar a imagem usando um limiar adaptativo\n",
    "imgBinarizada = cv2.adaptiveThreshold(\n",
    "    imgTratada, 255, \n",
    "    cv2.ADAPTIVE_THRESH_MEAN_C, \n",
    "    cv2.THRESH_BINARY_INV, \n",
    "    11, # Tamanho do bloco de vizinhança\n",
    "    2   # Constante C subtraída da média\n",
    ")\n",
    "\n",
    "# Passo 5: Encontrar contornos externos na imagem\n",
    "contornos, hierarquia = cv2.findContours(imgBinarizada, cv2.RETR_EXTERNAL, cv2.CHAIN_APPROX_SIMPLE)\n",
    "\n",
    "# Passo 6: Contar e desenhar os contornos\n",
    "contador = 0\n",
    "for contorno in contornos:\n",
    "    # Opcional: filtrar contornos muito pequenos que podem ser ruído\n",
    "    if cv2.contourArea(contorno) > 100:\n",
    "        cv2.drawContours(imagemOriginal, [contorno], -1, (0, 255, 0), 2)\n",
    "        contador += 1\n",
    "\n",
    "print(f\"Foram encontrados {contador} objetos.\")\n",
    "\n",
    "# Exibir as imagens\n",
    "cv2.imshow(\"Imagem Original com Contornos\", imagemOriginal)\n",
    "cv2.imshow(\"Imagem Binarizada\", imgBinarizada)\n",
    "cv2.waitKey(0)\n",
    "cv2.destroyAllWindows()"
   ]
  },
  {
   "cell_type": "code",
   "execution_count": null,
   "id": "14111426-f53b-4e01-9e6b-446ee9ce7e81",
   "metadata": {},
   "outputs": [],
   "source": []
  }
 ],
 "metadata": {
  "kernelspec": {
   "display_name": "Python 3 (ipykernel)",
   "language": "python",
   "name": "python3"
  },
  "language_info": {
   "codemirror_mode": {
    "name": "ipython",
    "version": 3
   },
   "file_extension": ".py",
   "mimetype": "text/x-python",
   "name": "python",
   "nbconvert_exporter": "python",
   "pygments_lexer": "ipython3",
   "version": "3.13.2"
  }
 },
 "nbformat": 4,
 "nbformat_minor": 5
}
