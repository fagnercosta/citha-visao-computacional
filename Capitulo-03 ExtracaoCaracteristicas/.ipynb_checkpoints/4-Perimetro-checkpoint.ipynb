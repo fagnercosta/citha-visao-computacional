{
 "cells": [
  {
   "cell_type": "code",
   "execution_count": 1,
   "id": "75fd93cc-6a5b-4adf-afda-3d451326243c",
   "metadata": {},
   "outputs": [
    {
     "name": "stdout",
     "output_type": "stream",
     "text": [
      "Perímetro do Triângulo 1 = 2178.00 pixels\n"
     ]
    }
   ],
   "source": [
    "import cv2\n",
    "\n",
    "# Carregar a imagem original\n",
    "imagemOriginal = cv2.imread(\"triangle3.png\")\n",
    "# Converter para tons de cinza\n",
    "imagemCorCinza = cv2.cvtColor(imagemOriginal, cv2.COLOR_BGR2GRAY)\n",
    "\n",
    "# Binarizar a imagem\n",
    "tipo = cv2.THRESH_BINARY_INV # Invertido para os objetos serem brancos\n",
    "ret, imgBinaria = cv2.threshold(imagemCorCinza, 127, 255, tipo)\n",
    "\n",
    "# Encontrar contornos\n",
    "contornos, hierarquia = cv2.findContours(imgBinaria, cv2.RETR_EXTERNAL, cv2.CHAIN_APPROX_SIMPLE)\n",
    "\n",
    "# Para cada contorno encontrado\n",
    "for index, contorno in enumerate(contornos):\n",
    "    # Calcular o perímetro do contorno\n",
    "    perimetro = cv2.arcLength(contorno, True)\n",
    "    print(f\"Perímetro do Triângulo {index + 1} = {perimetro:.2f} pixels\")\n",
    "    \n",
    "    # Desenhar o contorno na imagem original\n",
    "    cv2.drawContours(imagemOriginal, [contorno], -1, (0, 255, 0), 2)\n",
    "\n",
    "# Exibir as imagens\n",
    "cv2.imshow(\"Imagem Original\", imagemOriginal)\n",
    "cv2.imshow(\"Imagem Binarizada\", imgBinaria)\n",
    "cv2.waitKey(0)\n",
    "cv2.destroyAllWindows()"
   ]
  },
  {
   "cell_type": "code",
   "execution_count": null,
   "id": "14111426-f53b-4e01-9e6b-446ee9ce7e81",
   "metadata": {},
   "outputs": [],
   "source": []
  }
 ],
 "metadata": {
  "kernelspec": {
   "display_name": "Python 3 (ipykernel)",
   "language": "python",
   "name": "python3"
  },
  "language_info": {
   "codemirror_mode": {
    "name": "ipython",
    "version": 3
   },
   "file_extension": ".py",
   "mimetype": "text/x-python",
   "name": "python",
   "nbconvert_exporter": "python",
   "pygments_lexer": "ipython3",
   "version": "3.13.2"
  }
 },
 "nbformat": 4,
 "nbformat_minor": 5
}
